{
  "nbformat": 4,
  "nbformat_minor": 0,
  "metadata": {
    "colab": {
      "name": "PredictingMovieGenres.ipynb",
      "provenance": [],
      "machine_shape": "hm"
    },
    "kernelspec": {
      "name": "python3",
      "display_name": "Python 3"
    }
  },
  "cells": [
    {
      "cell_type": "markdown",
      "metadata": {
        "id": "vo884yxVLXqv",
        "colab_type": "text"
      },
      "source": [
        "# Kaggle Movies Dataset\n",
        "Predicting Genre of a movie based on Title,Original Title,TagLine and Description"
      ]
    },
    {
      "cell_type": "code",
      "metadata": {
        "id": "C0VB43AELUFt",
        "colab_type": "code",
        "colab": {
          "base_uri": "https://localhost:8080/",
          "height": 126
        },
        "outputId": "9c0274da-cce6-4d4b-e54d-f08daaeb593e"
      },
      "source": [
        "#Importing Packages\n",
        "import pandas as pd\n",
        "import re\n",
        "import numpy as np\n",
        "from ast import literal_eval\n",
        "from sklearn.preprocessing import LabelEncoder\n",
        "import nltk\n",
        "nltk.download('wordnet')\n",
        "nltk.download('punkt')\n",
        "nltk.download('stopwords')\n",
        "from sklearn.preprocessing import MultiLabelBinarizer\n",
        "from nltk.stem import WordNetLemmatizer\n",
        "from nltk.corpus import stopwords\n",
        "from sklearn.feature_extraction.text import TfidfVectorizer\n",
        "from sklearn.feature_selection import SelectKBest, chi2\n",
        "from sklearn.model_selection import train_test_split,GridSearchCV\n",
        "from sklearn.pipeline import Pipeline\n",
        "from sklearn.svm import LinearSVC\n",
        "from sklearn.linear_model import LogisticRegression, SGDClassifier\n",
        "from sklearn.multiclass import OneVsRestClassifier\n",
        "from sklearn.ensemble import RandomForestClassifier\n",
        "from xgboost import XGBClassifier\n",
        "from sklearn.metrics import f1_score,precision_score,recall_score,accuracy_score\n",
        "from sklearn.naive_bayes import MultinomialNB\n",
        "import matplotlib.pyplot as plt\n",
        "plt.style.use('ggplot')\n",
        "import warnings\n",
        "warnings.filterwarnings('ignore')\n",
        "import os\n",
        "os.chdir('/content/drive/My Drive/Projects/Factset_Recruitment')"
      ],
      "execution_count": 2,
      "outputs": [
        {
          "output_type": "stream",
          "text": [
            "[nltk_data] Downloading package wordnet to /root/nltk_data...\n",
            "[nltk_data]   Unzipping corpora/wordnet.zip.\n",
            "[nltk_data] Downloading package punkt to /root/nltk_data...\n",
            "[nltk_data]   Unzipping tokenizers/punkt.zip.\n",
            "[nltk_data] Downloading package stopwords to /root/nltk_data...\n",
            "[nltk_data]   Unzipping corpora/stopwords.zip.\n"
          ],
          "name": "stdout"
        }
      ]
    },
    {
      "cell_type": "code",
      "metadata": {
        "id": "f8VxlkiKLwWM",
        "colab_type": "code",
        "colab": {}
      },
      "source": [
        "#Reading The Data\n",
        "Columns = ['genres','original_title','overview','tagline','title']\n",
        "MoviesMetaData = pd.read_csv('movies_metadata.csv',usecols =Columns )"
      ],
      "execution_count": 0,
      "outputs": []
    },
    {
      "cell_type": "code",
      "metadata": {
        "id": "2RSVWZmaL03i",
        "colab_type": "code",
        "colab": {
          "base_uri": "https://localhost:8080/",
          "height": 216
        },
        "outputId": "e6467502-d592-49e6-c650-f0592eb1bcce"
      },
      "source": [
        "# Function to Summarize Data\n",
        "def summary(data):\n",
        "  print('Shape of data :',data.shape)\n",
        "  return(pd.DataFrame({'Dtypes':data.dtypes,\n",
        "                       'NAs':data.isnull().sum(),\n",
        "                       'Uniques':data.nunique()}))\n",
        "  \n",
        "summary(MoviesMetaData)  "
      ],
      "execution_count": 4,
      "outputs": [
        {
          "output_type": "stream",
          "text": [
            "Shape of data : (45466, 5)\n"
          ],
          "name": "stdout"
        },
        {
          "output_type": "execute_result",
          "data": {
            "text/html": [
              "<div>\n",
              "<style scoped>\n",
              "    .dataframe tbody tr th:only-of-type {\n",
              "        vertical-align: middle;\n",
              "    }\n",
              "\n",
              "    .dataframe tbody tr th {\n",
              "        vertical-align: top;\n",
              "    }\n",
              "\n",
              "    .dataframe thead th {\n",
              "        text-align: right;\n",
              "    }\n",
              "</style>\n",
              "<table border=\"1\" class=\"dataframe\">\n",
              "  <thead>\n",
              "    <tr style=\"text-align: right;\">\n",
              "      <th></th>\n",
              "      <th>Dtypes</th>\n",
              "      <th>NAs</th>\n",
              "      <th>Uniques</th>\n",
              "    </tr>\n",
              "  </thead>\n",
              "  <tbody>\n",
              "    <tr>\n",
              "      <th>genres</th>\n",
              "      <td>object</td>\n",
              "      <td>0</td>\n",
              "      <td>4069</td>\n",
              "    </tr>\n",
              "    <tr>\n",
              "      <th>original_title</th>\n",
              "      <td>object</td>\n",
              "      <td>0</td>\n",
              "      <td>43373</td>\n",
              "    </tr>\n",
              "    <tr>\n",
              "      <th>overview</th>\n",
              "      <td>object</td>\n",
              "      <td>954</td>\n",
              "      <td>44307</td>\n",
              "    </tr>\n",
              "    <tr>\n",
              "      <th>tagline</th>\n",
              "      <td>object</td>\n",
              "      <td>25054</td>\n",
              "      <td>20283</td>\n",
              "    </tr>\n",
              "    <tr>\n",
              "      <th>title</th>\n",
              "      <td>object</td>\n",
              "      <td>6</td>\n",
              "      <td>42277</td>\n",
              "    </tr>\n",
              "  </tbody>\n",
              "</table>\n",
              "</div>"
            ],
            "text/plain": [
              "                Dtypes    NAs  Uniques\n",
              "genres          object      0     4069\n",
              "original_title  object      0    43373\n",
              "overview        object    954    44307\n",
              "tagline         object  25054    20283\n",
              "title           object      6    42277"
            ]
          },
          "metadata": {
            "tags": []
          },
          "execution_count": 4
        }
      ]
    },
    {
      "cell_type": "code",
      "metadata": {
        "id": "Yzv8dO00nQ9M",
        "colab_type": "code",
        "colab": {
          "base_uri": "https://localhost:8080/",
          "height": 285
        },
        "outputId": "810e750c-006e-4737-9784-54f1d068c6d3"
      },
      "source": [
        "# Records where OriginalTitle and Title don't match\n",
        "MoviesMetaData.loc[MoviesMetaData['original_title']!=MoviesMetaData['title'],:][:5]"
      ],
      "execution_count": 5,
      "outputs": [
        {
          "output_type": "execute_result",
          "data": {
            "text/html": [
              "<div>\n",
              "<style scoped>\n",
              "    .dataframe tbody tr th:only-of-type {\n",
              "        vertical-align: middle;\n",
              "    }\n",
              "\n",
              "    .dataframe tbody tr th {\n",
              "        vertical-align: top;\n",
              "    }\n",
              "\n",
              "    .dataframe thead th {\n",
              "        text-align: right;\n",
              "    }\n",
              "</style>\n",
              "<table border=\"1\" class=\"dataframe\">\n",
              "  <thead>\n",
              "    <tr style=\"text-align: right;\">\n",
              "      <th></th>\n",
              "      <th>genres</th>\n",
              "      <th>original_title</th>\n",
              "      <th>overview</th>\n",
              "      <th>tagline</th>\n",
              "      <th>title</th>\n",
              "    </tr>\n",
              "  </thead>\n",
              "  <tbody>\n",
              "    <tr>\n",
              "      <th>28</th>\n",
              "      <td>[{'id': 14, 'name': 'Fantasy'}, {'id': 878, 'n...</td>\n",
              "      <td>La Cité des Enfants Perdus</td>\n",
              "      <td>A scientist in a surrealist society kidnaps ch...</td>\n",
              "      <td>Where happily ever after is just a dream.</td>\n",
              "      <td>The City of Lost Children</td>\n",
              "    </tr>\n",
              "    <tr>\n",
              "      <th>29</th>\n",
              "      <td>[{'id': 18, 'name': 'Drama'}, {'id': 80, 'name...</td>\n",
              "      <td>摇啊摇，摇到外婆桥</td>\n",
              "      <td>A provincial boy related to a Shanghai crime f...</td>\n",
              "      <td>In 1930's Shanghai violence was not the proble...</td>\n",
              "      <td>Shanghai Triad</td>\n",
              "    </tr>\n",
              "    <tr>\n",
              "      <th>32</th>\n",
              "      <td>[{'id': 10749, 'name': 'Romance'}, {'id': 12, ...</td>\n",
              "      <td>Guillaumet, les ailes du courage</td>\n",
              "      <td>NaN</td>\n",
              "      <td>NaN</td>\n",
              "      <td>Wings of Courage</td>\n",
              "    </tr>\n",
              "    <tr>\n",
              "      <th>57</th>\n",
              "      <td>[{'id': 35, 'name': 'Comedy'}, {'id': 18, 'nam...</td>\n",
              "      <td>Il postino</td>\n",
              "      <td>Simple Italian postman learns to love poetry w...</td>\n",
              "      <td>NaN</td>\n",
              "      <td>The Postman</td>\n",
              "    </tr>\n",
              "    <tr>\n",
              "      <th>58</th>\n",
              "      <td>[{'id': 53, 'name': 'Thriller'}, {'id': 18, 'n...</td>\n",
              "      <td>Le confessionnal</td>\n",
              "      <td>The year is 1952, in Quebec City. Rachel (16),...</td>\n",
              "      <td>NaN</td>\n",
              "      <td>The Confessional</td>\n",
              "    </tr>\n",
              "  </tbody>\n",
              "</table>\n",
              "</div>"
            ],
            "text/plain": [
              "                                               genres  ...                      title\n",
              "28  [{'id': 14, 'name': 'Fantasy'}, {'id': 878, 'n...  ...  The City of Lost Children\n",
              "29  [{'id': 18, 'name': 'Drama'}, {'id': 80, 'name...  ...             Shanghai Triad\n",
              "32  [{'id': 10749, 'name': 'Romance'}, {'id': 12, ...  ...           Wings of Courage\n",
              "57  [{'id': 35, 'name': 'Comedy'}, {'id': 18, 'nam...  ...                The Postman\n",
              "58  [{'id': 53, 'name': 'Thriller'}, {'id': 18, 'n...  ...           The Confessional\n",
              "\n",
              "[5 rows x 5 columns]"
            ]
          },
          "metadata": {
            "tags": []
          },
          "execution_count": 5
        }
      ]
    },
    {
      "cell_type": "markdown",
      "metadata": {
        "id": "hFLudBlxswyS",
        "colab_type": "text"
      },
      "source": [
        "Title is original title in english!, We can drop Original Title and use only title for model building"
      ]
    },
    {
      "cell_type": "code",
      "metadata": {
        "id": "SM6WSlRXSSMl",
        "colab_type": "code",
        "colab": {}
      },
      "source": [
        "#Function to Preprocessing Text Inside columns \n",
        "stemmer = WordNetLemmatizer()\n",
        "Stopwords = stopwords.words('english')\n",
        "def PreProcessData(Mdata):\n",
        "  data = Mdata.copy()\n",
        "  data['genres'] = data['genres'].fillna('[]').apply(literal_eval).apply(lambda x: [i['name'] for i in x] if isinstance(x, list) else '[]')\n",
        "  data = data.loc[~(data.genres=='[]'),:]\n",
        "  data = data.loc[~data.title.isnull(),:]\n",
        "  data.fillna('',inplace=True)\n",
        "  data.drop('original_title',axis=1,inplace=True)\n",
        "  data['overview']=data.overview.apply(lambda x:' '.join(stemmer.lemmatize(i) for i in re.sub(\"[^a-zA-Z]\",\" \",x).split() if i not in Stopwords ))\n",
        "  data['tagline']=data.tagline.apply(lambda x:' '.join(stemmer.lemmatize(i) for i in re.sub(\"[^a-zA-Z]\",\" \",x).split() if i not in Stopwords ))\n",
        "  data['title']=data.title.apply(lambda x:' '.join(stemmer.lemmatize(i) for i in re.sub(\"[^a-zA-Z]\",\" \",x).split() if i not in Stopwords ))\n",
        "  return data\n"
      ],
      "execution_count": 0,
      "outputs": []
    },
    {
      "cell_type": "code",
      "metadata": {
        "id": "TP0Dnsg2c8pp",
        "colab_type": "code",
        "colab": {
          "base_uri": "https://localhost:8080/",
          "height": 35
        },
        "outputId": "879edd6a-e753-4f27-a8b1-3c2c1551edf6"
      },
      "source": [
        "MoviesMetaData = PreProcessData(MoviesMetaData)\n",
        "MoviesMetaData.shape"
      ],
      "execution_count": 7,
      "outputs": [
        {
          "output_type": "execute_result",
          "data": {
            "text/plain": [
              "(45460, 4)"
            ]
          },
          "metadata": {
            "tags": []
          },
          "execution_count": 7
        }
      ]
    },
    {
      "cell_type": "code",
      "metadata": {
        "id": "m2kwYVEt-qks",
        "colab_type": "code",
        "colab": {
          "base_uri": "https://localhost:8080/",
          "height": 198
        },
        "outputId": "2975beb1-ca1d-457d-f16a-5fc8cc72eb74"
      },
      "source": [
        "MoviesMetaData.head()"
      ],
      "execution_count": 8,
      "outputs": [
        {
          "output_type": "execute_result",
          "data": {
            "text/html": [
              "<div>\n",
              "<style scoped>\n",
              "    .dataframe tbody tr th:only-of-type {\n",
              "        vertical-align: middle;\n",
              "    }\n",
              "\n",
              "    .dataframe tbody tr th {\n",
              "        vertical-align: top;\n",
              "    }\n",
              "\n",
              "    .dataframe thead th {\n",
              "        text-align: right;\n",
              "    }\n",
              "</style>\n",
              "<table border=\"1\" class=\"dataframe\">\n",
              "  <thead>\n",
              "    <tr style=\"text-align: right;\">\n",
              "      <th></th>\n",
              "      <th>genres</th>\n",
              "      <th>overview</th>\n",
              "      <th>tagline</th>\n",
              "      <th>title</th>\n",
              "    </tr>\n",
              "  </thead>\n",
              "  <tbody>\n",
              "    <tr>\n",
              "      <th>0</th>\n",
              "      <td>[Animation, Comedy, Family]</td>\n",
              "      <td>Led Woody Andy toy live happily room Andy birt...</td>\n",
              "      <td></td>\n",
              "      <td>Toy Story</td>\n",
              "    </tr>\n",
              "    <tr>\n",
              "      <th>1</th>\n",
              "      <td>[Adventure, Fantasy, Family]</td>\n",
              "      <td>When sibling Judy Peter discover enchanted boa...</td>\n",
              "      <td>Roll dice unleash excitement</td>\n",
              "      <td>Jumanji</td>\n",
              "    </tr>\n",
              "    <tr>\n",
              "      <th>2</th>\n",
              "      <td>[Romance, Comedy]</td>\n",
              "      <td>A family wedding reignites ancient feud next d...</td>\n",
              "      <td>Still Yelling Still Fighting Still Ready Love</td>\n",
              "      <td>Grumpier Old Men</td>\n",
              "    </tr>\n",
              "    <tr>\n",
              "      <th>3</th>\n",
              "      <td>[Comedy, Drama, Romance]</td>\n",
              "      <td>Cheated mistreated stepped woman holding breat...</td>\n",
              "      <td>Friends people let never let forget</td>\n",
              "      <td>Waiting Exhale</td>\n",
              "    </tr>\n",
              "    <tr>\n",
              "      <th>4</th>\n",
              "      <td>[Comedy]</td>\n",
              "      <td>Just George Banks recovered daughter wedding r...</td>\n",
              "      <td>Just When His World Is Back To Normal He In Fo...</td>\n",
              "      <td>Father Bride Part II</td>\n",
              "    </tr>\n",
              "  </tbody>\n",
              "</table>\n",
              "</div>"
            ],
            "text/plain": [
              "                         genres  ...                 title\n",
              "0   [Animation, Comedy, Family]  ...             Toy Story\n",
              "1  [Adventure, Fantasy, Family]  ...               Jumanji\n",
              "2             [Romance, Comedy]  ...      Grumpier Old Men\n",
              "3      [Comedy, Drama, Romance]  ...        Waiting Exhale\n",
              "4                      [Comedy]  ...  Father Bride Part II\n",
              "\n",
              "[5 rows x 4 columns]"
            ]
          },
          "metadata": {
            "tags": []
          },
          "execution_count": 8
        }
      ]
    },
    {
      "cell_type": "code",
      "metadata": {
        "id": "97Ex5gvXgOst",
        "colab_type": "code",
        "colab": {
          "base_uri": "https://localhost:8080/",
          "height": 464
        },
        "outputId": "181c0fc6-3c36-460e-e129-57bebbef9968"
      },
      "source": [
        "# Understanding The Distribution Of Genres\n",
        "all_genres = sum(MoviesMetaData.genres,[])\n",
        "plt.figure(figsize=(15,7))\n",
        "pd.Series(all_genres).value_counts(ascending=False).plot.barh()\n",
        "plt.xlabel('Count of Genre',fontsize=14)\n",
        "plt.title('The Distribution Of Genre Among Movies',fontsize=16)\n",
        "plt.show()"
      ],
      "execution_count": 9,
      "outputs": [
        {
          "output_type": "display_data",
          "data": {
            "image/png": "[encoded data removed]",
            "text/plain": [
              "<Figure size 1080x504 with 1 Axes>"
            ]
          },
          "metadata": {
            "tags": []
          }
        }
      ]
    },
    {
      "cell_type": "code",
      "metadata": {
        "id": "RaZTpntaI4n7",
        "colab_type": "code",
        "colab": {}
      },
      "source": [
        "# Since We Are Dealing With Multilabel Classification Problem Lets Convert Genres Into MultilabelBinary Form \n",
        "multilabel_binarizer = MultiLabelBinarizer()\n",
        "multilabel_binarizer.fit(MoviesMetaData['genres'])\n",
        "\n",
        "# transform target variable\n",
        "y = multilabel_binarizer.transform(MoviesMetaData['genres'])"
      ],
      "execution_count": 0,
      "outputs": []
    },
    {
      "cell_type": "code",
      "metadata": {
        "id": "bLcMAfWUT9v6",
        "colab_type": "code",
        "colab": {}
      },
      "source": [
        "# Splitting Train and Test Data And Using Only Overview Field To Predict Genre\n",
        "xtrain,xtest,ytrain,ytest = train_test_split(MoviesMetaData['overview'],y,test_size=0.2)"
      ],
      "execution_count": 0,
      "outputs": []
    },
    {
      "cell_type": "code",
      "metadata": {
        "id": "dI4ByBwgIdCj",
        "colab_type": "code",
        "colab": {}
      },
      "source": [
        "# Coverting Text to Numerical Columns Of TFIDF Values of Words, Taking Max 10000 Words\n",
        "tfidf_vectorizer = TfidfVectorizer(max_df=0.8, max_features=10000)\n",
        "xtrain_tfidf = tfidf_vectorizer.fit_transform(xtrain)\n",
        "xtest_tfidf = tfidf_vectorizer.transform(xtest)"
      ],
      "execution_count": 0,
      "outputs": []
    },
    {
      "cell_type": "code",
      "metadata": {
        "id": "KoThZ4eBJuWM",
        "colab_type": "code",
        "colab": {}
      },
      "source": [
        "# Function to Evaluate The Performance Of Model\n",
        "def EvaluateModel(Model):\n",
        "  test_pred = Model.predict(xtest_tfidf)\n",
        "  train_pred = Model.predict(xtrain_tfidf)\n",
        "  TrainAcc = accuracy_score(ytrain,train_pred)\n",
        "  TestAcc = accuracy_score(ytest,test_pred)\n",
        "  print('Train Accuracy :{:.2f} , Test Accuracy :{:.2f}'.format(TrainAcc,TestAcc))\n",
        "  FScore = f1_score(ytest, test_pred, average=\"macro\")\n",
        "  Precision=precision_score(ytest, test_pred, average=\"macro\")\n",
        "  Recall = recall_score(ytest, test_pred, average=\"macro\")\n",
        "  print('Macro Average Score:')\n",
        "  print('Precision :{:.2f} , Recall :{:.2f} , F1Score :{:.2f}\\n '.format(Precision, Recall, FScore))\n",
        "  FScore = f1_score(ytest, test_pred, average=\"micro\")\n",
        "  Precision=precision_score(ytest, test_pred, average=\"micro\")\n",
        "  Recall = recall_score(ytest, test_pred, average=\"micro\")\n",
        "  print('Micro Average Score:')\n",
        "  print('Precision :{:.2f} , Recall :{:.2f} , F1Score :{:.2f} '.format(Precision, Recall, FScore))\n",
        "  return\n",
        "  \n"
      ],
      "execution_count": 0,
      "outputs": []
    },
    {
      "cell_type": "markdown",
      "metadata": {
        "id": "GAV6TjXOktgm",
        "colab_type": "text"
      },
      "source": [
        "## Model Building"
      ]
    },
    {
      "cell_type": "markdown",
      "metadata": {
        "id": "I917rSW0pXlz",
        "colab_type": "text"
      },
      "source": [
        "Logistic Regression GridSearch"
      ]
    },
    {
      "cell_type": "code",
      "metadata": {
        "id": "m_n-yQFeIFas",
        "colab_type": "code",
        "colab": {
          "base_uri": "https://localhost:8080/",
          "height": 145
        },
        "outputId": "5d643230-4e46-498e-bedd-11db099e6412"
      },
      "source": [
        "lr = LogisticRegression(max_iter=3000 )\n",
        "clf = OneVsRestClassifier(lr)\n",
        "params = {'estimator__C':[0.01,1,10],\n",
        "       'estimator__penalty':['l1','l2'] , \n",
        "       'estimator__class_weight':[None,'balanced'],\n",
        "       }\n",
        "GridCV_lr = GridSearchCV(clf , param_grid = params , scoring='f1_micro' , n_jobs=-1)\n",
        "GridCV_lr.fit(xtrain_tfidf, ytrain)\n",
        "print(GridCV_lr.best_params_)\n",
        "EvaluateModel(GridCV_lr)"
      ],
      "execution_count": 14,
      "outputs": [
        {
          "output_type": "stream",
          "text": [
            "{'estimator__C': 1, 'estimator__class_weight': 'balanced', 'estimator__penalty': 'l2'}\n",
            "Train Accuracy :0.18 , Test Accuracy :0.09\n",
            "Macro Average Score:\n",
            "Precision :0.37 , Recall :0.65 , F1Score :0.47\n",
            " \n",
            "Micro Average Score:\n",
            "Precision :0.43 , Recall :0.69 , F1Score :0.53 \n"
          ],
          "name": "stdout"
        }
      ]
    },
    {
      "cell_type": "markdown",
      "metadata": {
        "id": "Z-lzS7B5pxPZ",
        "colab_type": "text"
      },
      "source": [
        "Linear SVC GridSearchCV"
      ]
    },
    {
      "cell_type": "code",
      "metadata": {
        "id": "Jz9Ie4O0p5uz",
        "colab_type": "code",
        "colab": {
          "base_uri": "https://localhost:8080/",
          "height": 145
        },
        "outputId": "51a5d612-1562-4d8f-c9f6-a04f2c1a2e65"
      },
      "source": [
        "svc = LinearSVC(max_iter=3000 )\n",
        "clf = OneVsRestClassifier(svc)\n",
        "params = {'estimator__C':[0.001,0.01,1,10,1000],\n",
        "       'estimator__penalty':['l1','l2'] , \n",
        "       'estimator__class_weight':[None,'balanced'],\n",
        "       'estimator__dual':[True,False]\n",
        "       }\n",
        "GridCV_svc = GridSearchCV(clf , param_grid = params , scoring='f1_micro' , n_jobs=-1)\n",
        "GridCV_svc.fit(xtrain_tfidf, ytrain)\n",
        "print(GridCV_svc.best_params_,'\\n')\n",
        "EvaluateModel(GridCV_svc)"
      ],
      "execution_count": 26,
      "outputs": [
        {
          "output_type": "stream",
          "text": [
            "{'estimator__C': 0.01, 'estimator__class_weight': 'balanced', 'estimator__dual': True, 'estimator__penalty': 'l2'}\n",
            "Train Accuracy :0.10 , Test Accuracy :0.07\n",
            "Macro Average Score:\n",
            "Precision :0.34 , Recall :0.68 , F1Score :0.44\n",
            " \n",
            "Micro Average Score:\n",
            "Precision :0.38 , Recall :0.69 , F1Score :0.49 \n"
          ],
          "name": "stdout"
        }
      ]
    },
    {
      "cell_type": "markdown",
      "metadata": {
        "id": "MwKnEZxkq1d0",
        "colab_type": "text"
      },
      "source": [
        "Random Forest GridSearch"
      ]
    },
    {
      "cell_type": "code",
      "metadata": {
        "id": "DBC_Ur4Tq4d2",
        "colab_type": "code",
        "colab": {
          "base_uri": "https://localhost:8080/",
          "height": 163
        },
        "outputId": "369cac23-a188-4be2-9369-63add189621d"
      },
      "source": [
        "rf = RandomForestClassifier(class_weight='balanced' )\n",
        "clf = OneVsRestClassifier(rf)\n",
        "params = {'estimator__max_depth':[5,10] }\n",
        "GridCV_rf = GridSearchCV(clf , param_grid = params , scoring='f1_micro' , n_jobs=-1)\n",
        "GridCV_rf.fit(xtrain_tfidf, ytrain)\n",
        "print(GridCV_rf.best_params_,'\\n')\n",
        "EvaluateModel(GridCV_rf)"
      ],
      "execution_count": 30,
      "outputs": [
        {
          "output_type": "stream",
          "text": [
            "{'estimator__max_depth': 10} \n",
            "\n",
            "Train Accuracy :0.12 , Test Accuracy :0.08\n",
            "Macro Average Score:\n",
            "Precision :0.34 , Recall :0.56 , F1Score :0.42\n",
            " \n",
            "Micro Average Score:\n",
            "Precision :0.40 , Recall :0.61 , F1Score :0.48 \n"
          ],
          "name": "stdout"
        }
      ]
    },
    {
      "cell_type": "markdown",
      "metadata": {
        "id": "4dfXXOxS-Thr",
        "colab_type": "text"
      },
      "source": [
        "Using Logistic Grid Search Results as Best model"
      ]
    },
    {
      "cell_type": "code",
      "metadata": {
        "id": "I-vc0n-1McRw",
        "colab_type": "code",
        "colab": {
          "base_uri": "https://localhost:8080/",
          "height": 381
        },
        "outputId": "4a8f7f67-fd9f-4ec5-caa6-f61ca55cff3e"
      },
      "source": [
        "def infer_tags(q):\n",
        "    q_vec = tfidf_vectorizer.transform([q])\n",
        "    q_pred = GridCV_lr.predict(q_vec)\n",
        "    return multilabel_binarizer.inverse_transform(q_pred)\n",
        "for i in range(5): \n",
        "  k = xtest.sample(1).index[0] \n",
        "  print(\"Movie: \", MoviesMetaData['title'][k], \"\\nPredicted genre: \", infer_tags(xtest[k])), print(\"Actual genre: \",MoviesMetaData['genres'][k], \"\\n\")"
      ],
      "execution_count": 18,
      "outputs": [
        {
          "output_type": "stream",
          "text": [
            "Movie:  The Sandlot Heading Home \n",
            "Predicted genre:  [('Comedy', 'Drama')]\n",
            "Actual genre:  ['Adventure', 'Drama', 'Action', 'Comedy', 'Science Fiction', 'Family'] \n",
            "\n",
            "Movie:  Farewell Summer Light \n",
            "Predicted genre:  [('Drama', 'Foreign', 'Romance', 'War')]\n",
            "Actual genre:  ['Drama', 'Romance'] \n",
            "\n",
            "Movie:  Hamilton America \n",
            "Predicted genre:  [('Documentary', 'Music')]\n",
            "Actual genre:  ['Documentary'] \n",
            "\n",
            "Movie:  Into Blue \n",
            "Predicted genre:  [('Action', 'Adventure', 'Family', 'Western')]\n",
            "Actual genre:  ['Action', 'Thriller', 'Adventure', 'Crime'] \n",
            "\n",
            "Movie:  Jack Goes Boating \n",
            "Predicted genre:  [('Comedy', 'Drama', 'Romance')]\n",
            "Actual genre:  ['Comedy', 'Drama', 'Romance'] \n",
            "\n"
          ],
          "name": "stdout"
        }
      ]
    },
    {
      "cell_type": "code",
      "metadata": {
        "id": "wiDMQK7lMcUz",
        "colab_type": "code",
        "colab": {}
      },
      "source": [
        ""
      ],
      "execution_count": 0,
      "outputs": []
    }
  ]
}